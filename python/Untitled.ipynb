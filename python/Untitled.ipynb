{
 "cells": [
  {
   "cell_type": "code",
   "execution_count": 8,
   "metadata": {},
   "outputs": [
    {
     "data": {
      "application/vnd.jupyter.widget-view+json": {
       "model_id": "2dfdd9eadcbc4d7d8ecd1b275934ff25",
       "version_major": 2,
       "version_minor": 0
      },
      "text/plain": [
       "FloatSlider(value=1.0, description='Frequency', max=30.0, step=0.05)"
      ]
     },
     "metadata": {},
     "output_type": "display_data"
    },
    {
     "data": {
      "application/vnd.jupyter.widget-view+json": {
       "model_id": "c5d15946a4ad4dada65c93dda753a800",
       "version_major": 2,
       "version_minor": 0
      },
      "text/plain": [
       "GraphWidget()"
      ]
     },
     "metadata": {},
     "output_type": "display_data"
    }
   ],
   "source": [
    "import plotly.plotly as py\n",
    "import ipywidgets as widgets\n",
    "import numpy as np\n",
    "\n",
    "from ipywidgets import interact, interactive, fixed\n",
    "from IPython.core.display import HTML\n",
    "from IPython.display import display, clear_output\n",
    "from plotly.widgets import GraphWidget\n",
    "\n",
    "g = GraphWidget('https://plot.ly/~DemoAccount/10147/')\n",
    "x = y = np.arange(-5,5,0.1)\n",
    "yt = x[:,np.newaxis]\n",
    "\n",
    "# define our listener class\n",
    "class z_data:\n",
    "    \n",
    "    def __init__(self):\n",
    "        self.z = np.cos(x*yt)+np.sin(x*yt)*2\n",
    "    \n",
    "    def on_z_change(self, name):\n",
    "        new_value = name['new']\n",
    "        \n",
    "        self.z = np.cos(x*yt*(new_value+1)/100)+np.sin(x*yt*(new_value+1/100))\n",
    "        self.replot()\n",
    "        \n",
    "    def replot(self):\n",
    "        g.restyle({ 'z': [self.z], 'colorscale': 'Viridis'})\n",
    "\n",
    "# create sliders\n",
    "z_slider = widgets.FloatSlider(min=0,max=30,value=1,step=0.05, continuous_update=True)\n",
    "z_slider.description = 'Frequency'\n",
    "z_slider.value = 1\n",
    "\n",
    "# initialize listener class\n",
    "z_state = z_data()\n",
    "\n",
    "# activate listener on our slider\n",
    "z_slider.observe(z_state.on_z_change, 'value')\n",
    "\n",
    "# display our app\n",
    "display(z_slider)\n",
    "display(g)"
   ]
  },
  {
   "cell_type": "code",
   "execution_count": null,
   "metadata": {},
   "outputs": [],
   "source": []
  }
 ],
 "metadata": {
  "kernelspec": {
   "display_name": "Python 3",
   "language": "python",
   "name": "python3"
  },
  "language_info": {
   "codemirror_mode": {
    "name": "ipython",
    "version": 3
   },
   "file_extension": ".py",
   "mimetype": "text/x-python",
   "name": "python",
   "nbconvert_exporter": "python",
   "pygments_lexer": "ipython3",
   "version": "3.6.4"
  }
 },
 "nbformat": 4,
 "nbformat_minor": 2
}
